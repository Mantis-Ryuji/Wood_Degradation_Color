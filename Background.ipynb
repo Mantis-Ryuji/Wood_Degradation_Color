{
 "cells": [
  {
   "cell_type": "markdown",
   "id": "ab037e8e-a140-4bd0-834a-4d33218753cf",
   "metadata": {},
   "source": [
    "## <center>劣化による表面から内部にかけての色変化の解析<br><br> Analysis of color change from surface to interior due to wood deterioration \n",
    "\n"
   ]
  },
  {
   "cell_type": "markdown",
   "id": "8357ed9b-774d-4586-92d2-c2ed957b5369",
   "metadata": {},
   "source": [
    "### 背景<br><br>Background\n",
    "長期間を経た木材の劣化についての既往研究は、表面で迅速に進む**気象劣化**と、気象劣化を免れた内部で緩やかに進む**経年変化**に分けて考えられます。（下図）\n",
    "<center><img src=\"img\\スクリーンショット%202025-05-11%20004119.png\">\n",
    "</center>"
   ]
  },
  {
   "cell_type": "markdown",
   "id": "85e28f5e-e6e8-4d81-8404-5a7f9b86c0c9",
   "metadata": {},
   "source": [
    "それぞれについての蓄積はありますが、これらの**二つを連続的に把握する**ような研究はほとんど行われていません。<br>\n",
    "そのため、本研究では、古材の表面から内部にかけての色変化を連続的に分析し、劣化の遷移を量的に把握しました。 "
   ]
  },
  {
   "cell_type": "markdown",
   "id": "cfcfb76d-cc74-4a2f-b098-be6a21ed63d7",
   "metadata": {},
   "source": [
    "木材は長期間の使用に伴い、その色をはじめとするさまざまな特性が変化します。<br>\n",
    "この色変化の測定は、木材の劣化を定量的に評価するための有効な手段となる可能性があります。<br>\n",
    "さらに、他の特性との関係を調べることで、木材の劣化を非破壊的に測定するための指標として活用できる可能性があります。"
   ]
  },
  {
   "cell_type": "markdown",
   "id": "ba1e726e-99d1-4df3-8595-7e45ecdef7b7",
   "metadata": {},
   "source": [
    "### 色変化測定のメリットとデメリットまとめ"
   ]
  },
  {
   "cell_type": "markdown",
   "id": "e224a421-8961-4a30-9f2a-d5219f6e666f",
   "metadata": {},
   "source": [
    "<table style=\"font-size: 18px;\">\n",
    "  <thead>\n",
    "    <tr>\n",
    "      <th>項目</th>\n",
    "      <th>内容</th>\n",
    "    </tr>\n",
    "  </thead>\n",
    "  <tbody>\n",
    "    <tr>\n",
    "      <td><strong>メリット</strong></td>\n",
    "      <td>\n",
    "        ・<strong>低コスト</strong>で実施可能<br>\n",
    "        ・<strong>非破壊</strong>で材料を傷つけずに評価可能\n",
    "      </td>\n",
    "    </tr>\n",
    "    <tr>\n",
    "      <td><strong>デメリット</strong></td>\n",
    "      <td>\n",
    "        ・樹種ごとに色が異なるため、比較が難しい<br>\n",
    "        ・同じ樹種でも<strong>個体差</strong>あり<br>\n",
    "        ・一つの木材内でも<strong>色むら</strong>が存在する\n",
    "      </td>\n",
    "    </tr>\n",
    "  </tbody>\n",
    "</table>"
   ]
  },
  {
   "cell_type": "markdown",
   "id": "962414e8-2bc8-4f8a-94ed-901ee570dd8a",
   "metadata": {},
   "source": [
    "樹種をしぼって（例えばヒノキ）**色データ**と**力学的特性**などを対応させたデータセットを構築すると、強度予測を**非破壊的**にかつ**低コスト**で実現可能になるかもしれない"
   ]
  }
 ],
 "metadata": {
  "kernelspec": {
   "display_name": "Python [conda env:new_gpu_env]",
   "language": "python",
   "name": "conda-env-new_gpu_env-py"
  },
  "language_info": {
   "codemirror_mode": {
    "name": "ipython",
    "version": 3
   },
   "file_extension": ".py",
   "mimetype": "text/x-python",
   "name": "python",
   "nbconvert_exporter": "python",
   "pygments_lexer": "ipython3",
   "version": "3.13.2"
  }
 },
 "nbformat": 4,
 "nbformat_minor": 5
}
