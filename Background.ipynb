{
 "cells": [
  {
   "cell_type": "markdown",
   "id": "ab037e8e-a140-4bd0-834a-4d33218753cf",
   "metadata": {},
   "source": [
    "## <center>劣化による表面から内部にかけての色変化の解析<br><br> Analysis of color change from surface to interior due to wood deterioration \n",
    "\n"
   ]
  },
  {
   "cell_type": "markdown",
   "id": "8357ed9b-774d-4586-92d2-c2ed957b5369",
   "metadata": {},
   "source": [
    "### 背景<br><br>Background\n",
    "長期間を経た木材の劣化についての既往研究は、表面で迅速に進む**気象劣化**と、気象劣化を免れた内部で緩やかに進む**経年変化**に分けて考えられます。（下図）\n",
    "Existing research on the deterioration of wood over time can be divided into two categories: **weather deterioration**, which is rapid at the surface, and **ageing**, which is gradual inside the wood that has been spared from weather deterioration.\n",
    "<center><img src=\"Image\\keyaki_img.png\">\n",
    "</center>"
   ]
  },
  {
   "cell_type": "markdown",
   "id": "85e28f5e-e6e8-4d81-8404-5a7f9b86c0c9",
   "metadata": {},
   "source": [
    "それぞれについての蓄積はありますが、これらの**二つを連続的に把握する**ような研究はほとんど行われていません。<br>\n",
    "Although there is a body of work on each, few studies have been done to **grasp** these two consecutively.<br>\n",
    "そのため、本研究では、古材の表面から内部にかけての色変化を連続的に分析し、劣化の遷移を量的に把握しました。 <br>\n",
    "Therefore, this study quantified the transition of deterioration by continuously analyzing the color change from the surface to the interior of the old wood."
   ]
  },
  {
   "cell_type": "markdown",
   "id": "cfcfb76d-cc74-4a2f-b098-be6a21ed63d7",
   "metadata": {},
   "source": [
    "木材は長期間の使用に伴い、その色をはじめとするさまざまな特性が変化します。<br>\n",
    "この色変化の測定は、木材の劣化を定量的に評価するための有効な手段となる可能性があります。<br>\n",
    "さらに、他の特性との関係を調べることで、木材の劣化を非破壊的に測定するための指標として活用できる可能性があります。<br>\n",
    "As wood is used over time, its color and many other properties change. <br> \n",
    "Measurement of this color change could be an effective means of quantitatively evaluating wood deterioration. <br> \n",
    "Furthermore, by examining the relationship with other properties, it could be used as a nondestructive measure of wood deterioration."
   ]
  },
  {
   "cell_type": "markdown",
   "id": "ba1e726e-99d1-4df3-8595-7e45ecdef7b7",
   "metadata": {},
   "source": [
    "### 色変化測定のメリットとデメリットまとめ<br><br>Summary of advantages and disadvantages of color change measurement"
   ]
  },
  {
   "cell_type": "markdown",
   "id": "e224a421-8961-4a30-9f2a-d5219f6e666f",
   "metadata": {},
   "source": [
    "<table style=\"font-size: 15px;\">\n",
    "  <thead>\n",
    "    <tr>\n",
    "      <th>項目 Item</th>\n",
    "      <th>内容 Content</th>\n",
    "    </tr>\n",
    "  </thead>\n",
    "  <tbody>\n",
    "    <tr>\n",
    "      <td><strong>メリット advantages</strong></td>\n",
    "      <td>\n",
    "        ・<strong>低コスト</strong>で実施可能 | Can be implemented at <strong>low cost</strong><br>\n",
    "        ・<strong>非破壊</strong>で材料を傷つけずに評価可能 | <strong>Non-destructive</strong> evaluation possible\n",
    "      </td>\n",
    "    </tr>\n",
    "    <tr>\n",
    "      <td><strong>デメリット disadvantages</strong></td>\n",
    "      <td>\n",
    "        ・樹種ごとに色が異なるため、<strong>比較が難しい</strong> | <strong>Difficult to compare </strong>because each tree species has a different color.<br>\n",
    "        ・同じ樹種でも<strong>個体差</strong>あり | There are <strong>individual differences</strong> even in the same species of tree.<br>\n",
    "        ・一つの個体内でも<strong>色むら</strong>が存在する | Uneven <strong>color variation</strong> exists even within a single individual.\n",
    "      </td>\n",
    "    </tr>\n",
    "  </tbody>\n",
    "</table>"
   ]
  },
  {
   "cell_type": "markdown",
   "id": "962414e8-2bc8-4f8a-94ed-901ee570dd8a",
   "metadata": {},
   "source": [
    "樹種をしぼって（例えばヒノキ）**色データ**と**力学的特性**などを対応させたデータセットを構築すると、強度予測を**非破壊的**にかつ**低コスト**で実現可能になるかもしれない<br>\n",
    "Building a data set that maps **color data** to **mechanical properties**, etc., for a given species (e.g., cypress) may make strength prediction possible **nondestructively** and at **low cost**."
   ]
  }
 ],
 "metadata": {
  "kernelspec": {
   "display_name": "Python [conda env:new_gpu_env]",
   "language": "python",
   "name": "conda-env-new_gpu_env-py"
  },
  "language_info": {
   "codemirror_mode": {
    "name": "ipython",
    "version": 3
   },
   "file_extension": ".py",
   "mimetype": "text/x-python",
   "name": "python",
   "nbconvert_exporter": "python",
   "pygments_lexer": "ipython3",
   "version": "3.13.2"
  }
 },
 "nbformat": 4,
 "nbformat_minor": 5
}
