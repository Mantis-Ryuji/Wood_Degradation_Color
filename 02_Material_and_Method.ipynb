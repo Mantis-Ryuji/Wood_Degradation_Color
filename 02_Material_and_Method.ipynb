{
 "cells": [
  {
   "cell_type": "markdown",
   "id": "1ebf7eb3-0cbe-46e0-8e01-87a216daf04e",
   "metadata": {},
   "source": [
    "## <center>劣化による表面から内部にかけての色変化の解析<br><br> Analysis of color change from surface to interior due to wood deterioration "
   ]
  },
  {
   "cell_type": "markdown",
   "id": "d4202fa7-4f94-491f-8db9-30168c604070",
   "metadata": {},
   "source": [
    "### 試料について About Materials"
   ]
  },
  {
   "cell_type": "markdown",
   "id": "347d493b-66b8-4114-b10c-b623dee2c3fa",
   "metadata": {},
   "source": [
    "<center><img src='Image\\Zuiganji1.png' width='600'>"
   ]
  },
  {
   "cell_type": "markdown",
   "id": "4765200b-e10f-4a60-9ac6-eb21ebaa6d24",
   "metadata": {},
   "source": [
    "試料として宮城県にある**瑞巌寺**というお寺の柱材を用いました。<br>\n",
    "樹種はヒノキで、年輪年代法により最外年輪年代が**1574**年だと、判明しています。<br>\n",
    "このように各方向に 1 ~ 4 の番号を付けています。<br>\n",
    "The sample was a pillar wood from **Zuiganji Temple** in Miyagi Prefecture, Japan. <br> \n",
    "The species is Hinoki, and the outermost ring age was determined to be **1574** by dendrochronology. <br> \n",
    "Each direction is numbered 1 ~ 4."
   ]
  },
  {
   "cell_type": "markdown",
   "id": "fb556ea6-c615-4fc6-8f8b-c73990b2f571",
   "metadata": {},
   "source": [
    "<center><img src='Image\\Zuiganji2.png'>"
   ]
  },
  {
   "cell_type": "markdown",
   "id": "00258c97-45ea-4c63-a54c-d5ebc6a1b4d4",
   "metadata": {},
   "source": [
    "ここで取り扱った試料は柱材の根元の部分で、**赤丸**の位置で用いられていました。<br>\n",
    "The sample handled here was used at the base of the column wood, at the position indicated by the **red circle**."
   ]
  },
  {
   "cell_type": "markdown",
   "id": "bf0654c2-10e9-4d65-ac1f-ec59a6875536",
   "metadata": {},
   "source": [
    "測色に用いる試験体として以下の図のように、L方向に約50mm、T方向に2mm、R方向に髄まで切削し、**まさ目板の試験体**を作成しました。\n",
    "<center><img src='Image\\Material.png' width='600'>"
   ]
  },
  {
   "cell_type": "markdown",
   "id": "8f70b808-f46f-40f1-ac4a-7d3ee729c7b2",
   "metadata": {},
   "source": [
    "### 測色 Color Measurement"
   ]
  },
  {
   "cell_type": "markdown",
   "id": "4a422035-8aeb-41d6-9b5b-4d374701d2a5",
   "metadata": {},
   "source": [
    "表面から内部にかけて劣化による変色の**グラデーション**が目視で確認されたため、イメージング分光装置（Imspector V8E、JFEテクノリサーチ）を用いて精密に色を測定しました。<br>\n",
    "試験体のR方向がステージの移動方向と一致するように設置し、**分解能0.06mm/pixel**で、色データを**Lab表色系**(＊)の色彩値として取得しました。<br>\n",
    "Since **gradation** of discoloration due to deterioration was visually observed from the surface to the interior, the color was precisely measured using an imaging spectrometer (Imspector V8E, JFE Techno Research). <br> \n",
    "The specimen was set up so that the R direction of the specimen was aligned with the movement direction of the stage, and color data was acquired as color values in the **Lab color space**(*) with a **resolution of 0.06 mm/pixel**. \n",
    "<center><img src='Image\\Method.png'>"
   ]
  },
  {
   "cell_type": "markdown",
   "id": "41eec9ed-4105-497f-859f-85a4ec852c6a",
   "metadata": {},
   "source": [
    "### (＊)Lab表色系 Lab Color Space\n",
    "<center><img src='Image\\Color.png'>"
   ]
  },
  {
   "cell_type": "markdown",
   "id": "b45824df-69bd-46b8-b509-e0c110ddda5a",
   "metadata": {},
   "source": [
    "Lab表色系は、三次元空間で任意の色を表す表色系です。<br>\n",
    "The Lab color space is a color system that represents any color in three-dimensional space."
   ]
  },
  {
   "cell_type": "markdown",
   "id": "18bb4e19-244e-4909-93a4-fb01a15abe08",
   "metadata": {},
   "source": [
    "### 0 点の固定 Fix 0 point\n",
    "測色により得られるデータは背景を含んでいます。<br>\n",
    "ここでは背景を水色（木材の補色）で測定することにより、色相角度 $h^\\circ \\geq 90$ 度で背景を欠損させています。<br>\n",
    "The data obtained by color measurement includes the background. <br> \n",
    "Here the background is measured in light blue (the complementary color of wood), making the background missing at hue angle $h^\\circ \\geq 90$ degrees. \n",
    "#### 色相角度：\n",
    "$$\n",
    "h^\\circ = \\tan^{-1}\\left(\\frac{b^*}{a^*}\\right)\n",
    "$$\n",
    "\n",
    "$$\n",
    "\\text{if } h^\\circ < 0, \\quad h^\\circ = h^\\circ + 360\n",
    "$$\n",
    "色相角度の範囲を **–180°〜+180°** から **0°〜360°** にしている。<br>\n",
    "Hue angle range from **-180° to +180°** to **0° to 360°**."
   ]
  },
  {
   "cell_type": "markdown",
   "id": "b0fd07ec-1d44-4230-b035-79b4d04064a8",
   "metadata": {},
   "source": [
    "<center><img src='Image\\del_background.png'>"
   ]
  },
  {
   "cell_type": "markdown",
   "id": "65c57893-4665-48d9-b1e9-44c55c1eaf12",
   "metadata": {},
   "source": [
    "以降データ分析において使用している画像は欠損させた箇所を上詰めしています。<br>\n",
    "The images used in the following data analysis are overstuffed with missing areas."
   ]
  }
 ],
 "metadata": {
  "kernelspec": {
   "display_name": "Python [conda env:new_gpu_env]",
   "language": "python",
   "name": "conda-env-new_gpu_env-py"
  },
  "language_info": {
   "codemirror_mode": {
    "name": "ipython",
    "version": 3
   },
   "file_extension": ".py",
   "mimetype": "text/x-python",
   "name": "python",
   "nbconvert_exporter": "python",
   "pygments_lexer": "ipython3",
   "version": "3.13.2"
  }
 },
 "nbformat": 4,
 "nbformat_minor": 5
}
